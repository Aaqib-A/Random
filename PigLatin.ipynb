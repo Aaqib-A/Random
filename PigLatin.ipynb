{
 "cells": [
  {
   "cell_type": "code",
   "execution_count": 31,
   "metadata": {},
   "outputs": [
    {
     "data": {
      "text/plain": [
       "'heTay uickqay rownbay oxfay '"
      ]
     },
     "execution_count": 31,
     "metadata": {},
     "output_type": "execute_result"
    }
   ],
   "source": [
    "#This program converts normal sentence into PigLatin and back to Normal\n",
    "\n",
    "\n",
    "\n",
    "def normal_to_pigLatin(text): \n",
    "    newText=\"\"\n",
    "    for eachWord in text.split():\n",
    "        #print (eachWord)\n",
    "        eachWord+= eachWord[0]\n",
    "        newText += eachWord[1:] + \"ay \"\n",
    "        #print (newText)\n",
    "    return (newText)\n",
    "\n",
    "normal_to_pigLatin(\"The quick brown fox\")"
   ]
  },
  {
   "cell_type": "code",
   "execution_count": null,
   "metadata": {},
   "outputs": [],
   "source": [
    "#Convert from PigLatin to Normal Sentence \n",
    "def pigLatin_to_normal(text):\n",
    "    newText = \"\"\n",
    "    for eachWord in text.split():\n",
    "        #print(eachWord)\n",
    "        newText+=eachWord[-3]\n",
    "        newText+=eachWord[:-3] + \" \"\n",
    "        #print(newText)\n",
    "    return (newText)\n",
    "\n",
    "pigLatin_to_normal(\"heTay uickqay rownbay oxfay\")"
   ]
  },
  {
   "cell_type": "code",
   "execution_count": null,
   "metadata": {},
   "outputs": [],
   "source": []
  }
 ],
 "metadata": {
  "kernelspec": {
   "display_name": "Python 3",
   "language": "python",
   "name": "python3"
  },
  "language_info": {
   "codemirror_mode": {
    "name": "ipython",
    "version": 3
   },
   "file_extension": ".py",
   "mimetype": "text/x-python",
   "name": "python",
   "nbconvert_exporter": "python",
   "pygments_lexer": "ipython3",
   "version": "3.8.5"
  }
 },
 "nbformat": 4,
 "nbformat_minor": 4
}
